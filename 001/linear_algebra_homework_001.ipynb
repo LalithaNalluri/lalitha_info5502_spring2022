{
  "cells": [
    {
      "cell_type": "markdown",
      "id": "9575fb90",
      "metadata": {
        "id": "9575fb90"
      },
      "source": [
        "# Homework 1 - Numpy Arrays\n",
        "\n",
        "### Readings from PPNM:\n",
        "Chapter    2.7:  Introducing Arrays\n",
        "\n",
        "Chapter     14:  Basics of Matrices and Linear Algebra\n",
        "\n",
        "Chapter 16.4.2:  Calculating Betas Using Inverse \n"
      ]
    },
    {
      "cell_type": "markdown",
      "id": "0e5d8937",
      "metadata": {
        "id": "0e5d8937"
      },
      "source": [
        "## Our Assignment Goals\n",
        "Work through these examples of basic vector and matrix operations, then you will be asked to provide 3 things:\n",
        "- Calculate the betas for a regression of two X variables onto a Y vector using matrix formulation -  using module \"numpy\" (3 betas - 1 beta for the intercept, and 2 betas for the two X predictor variables)\n",
        "- Write out the regression equation for predicted Y values using the betas.  Leave Y, X and Epsilon as symbols, and insert your estimated beta values:   <br> $$\\hat{Y}=\\hat{\\beta_0}+\\hat{\\beta_1}*X_1+\\hat{\\beta_2}*X_2+\\varepsilon$$<br>\n",
        "\n",
        "- Lastly, show hand calculations that a defined matrix $A$ and it's inverse $A^{-1}$ give back the identity matrix"
      ]
    },
    {
      "cell_type": "markdown",
      "id": "fc4d2e21",
      "metadata": {
        "id": "fc4d2e21"
      },
      "source": [
        "## Part I:  Examples"
      ]
    },
    {
      "cell_type": "markdown",
      "id": "dd80c06f",
      "metadata": {
        "id": "dd80c06f"
      },
      "source": [
        "### Creating Vectors and Matrices"
      ]
    },
    {
      "cell_type": "code",
      "execution_count": 7,
      "id": "0ee16dd7",
      "metadata": {
        "colab": {
          "base_uri": "https://localhost:8080/"
        },
        "id": "0ee16dd7",
        "outputId": "744a53b8-09dd-4e95-ba78-c7aaac4dc951"
      },
      "outputs": [
        {
          "output_type": "stream",
          "name": "stdout",
          "text": [
            "[[2]\n",
            " [5]\n",
            " [4]\n",
            " [7]]\n",
            "\n",
            "(4, 1)\n",
            "\n",
            "[[2 5 4 7]]\n",
            "\n",
            "(1, 4)\n",
            "\n",
            "[[ 2  4  6]\n",
            " [ 8 10 12]]\n",
            "\n",
            "(2, 3)\n",
            "\n",
            "[[ 2  4]\n",
            " [ 6  8]\n",
            " [10 12]]\n",
            "\n",
            "(3, 2)\n"
          ]
        }
      ],
      "source": [
        "# Import numpy\n",
        "import numpy as np\n",
        "\n",
        "# An array, no orientation\n",
        "v2 = np.array([2,5,4,7])\n",
        "\n",
        "# Creating a 4 by 1 column vector; The \"shape\" property gives the dimensions of the matrix  \n",
        "v3 = np.array([ [2],[5],[4],[7] ])\n",
        "print(v3)\n",
        "print(\"\")\n",
        "print(v3.shape)\n",
        "print(\"\")\n",
        "\n",
        "# Creating a 1 by 4 row vector\n",
        "v4 = np.array([ [2,5,4,7] ]) \n",
        "print(v4)\n",
        "print(\"\")\n",
        "print(v4.shape)\n",
        "print(\"\")\n",
        "\n",
        "# Creating a 2x3 matrix\n",
        "v5=np.array([[2,4,6],\n",
        "             [8,10,12]])\n",
        "print(v5)\n",
        "print(\"\")\n",
        "print(v5.shape)\n",
        "print(\"\")\n",
        "\n",
        "# Creating a 3x2 matrix\n",
        "v6=np.array([[2,4], [6,8], \n",
        "             [10,12]])\n",
        "print(v6)\n",
        "print(\"\")\n",
        "print(v6.shape)\n"
      ]
    },
    {
      "cell_type": "markdown",
      "id": "5955ac67",
      "metadata": {
        "id": "5955ac67"
      },
      "source": [
        "### Transpose"
      ]
    },
    {
      "cell_type": "code",
      "execution_count": 8,
      "id": "c120df65",
      "metadata": {
        "colab": {
          "base_uri": "https://localhost:8080/"
        },
        "id": "c120df65",
        "outputId": "a1ab5a01-d87c-4c1c-87af-68645fad7a30"
      },
      "outputs": [
        {
          "output_type": "stream",
          "name": "stdout",
          "text": [
            "[[-2.14249844 -0.56601305  0.37060285 -0.83715481  2.18737322]\n",
            " [ 0.25517423  0.87795555  0.81233779 -1.9634466  -0.56179902]]\n",
            "\n",
            "[[-2.14249844  0.25517423]\n",
            " [-0.56601305  0.87795555]\n",
            " [ 0.37060285  0.81233779]\n",
            " [-0.83715481 -1.9634466 ]\n",
            " [ 2.18737322 -0.56179902]]\n",
            "\n",
            "[[-2.14249844  0.25517423]\n",
            " [-0.56601305  0.87795555]\n",
            " [ 0.37060285  0.81233779]\n",
            " [-0.83715481 -1.9634466 ]\n",
            " [ 2.18737322 -0.56179902]]\n"
          ]
        }
      ],
      "source": [
        "# Create a random 2x5 matrix\n",
        "A = np.random.randn(2,5)\n",
        "print(A)\n",
        "print(\"\")\n",
        "\n",
        "# Two ways to transpose\n",
        "At1 = A.T\n",
        "print(At1)\n",
        "print(\"\")\n",
        "\n",
        "At2 = np.transpose(A)\n",
        "print(At2)"
      ]
    },
    {
      "cell_type": "markdown",
      "id": "18bcb45d",
      "metadata": {
        "id": "18bcb45d"
      },
      "source": [
        "### Vector and Matrix Multiplication"
      ]
    },
    {
      "cell_type": "code",
      "execution_count": 9,
      "id": "81341cdd",
      "metadata": {
        "colab": {
          "base_uri": "https://localhost:8080/"
        },
        "id": "81341cdd",
        "outputId": "ce62878a-ad00-41be-97d5-a972182f989f"
      },
      "outputs": [
        {
          "output_type": "stream",
          "name": "stdout",
          "text": [
            "[[27]]\n",
            "\n",
            "[[ 2  4  6]\n",
            " [ 8 10 12]]\n",
            "\n",
            "(2, 3)\n",
            "\n",
            "\n",
            "(3, 2)\n",
            "\n",
            "[[ 88 112]\n",
            " [196 256]]\n",
            "\n",
            "(2, 2)\n",
            "\n",
            "[[ 88 112]\n",
            " [196 256]]\n",
            "\n",
            "(2, 2)\n"
          ]
        }
      ],
      "source": [
        "# Create two vectors v1 and v2\n",
        "v1 = np.array([[2,5,4,7]])\n",
        "v2 = np.array([[4,1,0,2]])\n",
        "\n",
        "# Multiple the two vectors (dot product); this also works with matrices with\n",
        "# same inner index - in this case (1, 4) times (4, 1)\n",
        "dp = np.dot(v1,v2.T)\n",
        "print(dp)\n",
        "print(\"\")\n",
        "\n",
        "# Create a 2x3 and a 3x2 matrix then multiply them and should produce\n",
        "# a 2x2 matrix\n",
        "v3=np.array([[2,4,6],\n",
        "             [8,10,12]])\n",
        "print(v3)\n",
        "print(\"\")\n",
        "print(v3.shape)\n",
        "print(\"\")\n",
        "\n",
        "# Creating a 3x2 matrix\n",
        "v4=np.array([[2,4], [6,8], \n",
        "             [10,12]])\n",
        "print(\"\")\n",
        "print(v4.shape)\n",
        "print(\"\")\n",
        "\n",
        "v5=np.dot(v3, v4)\n",
        "print(v5)\n",
        "print(\"\")\n",
        "print(v5.shape)\n",
        "print(\"\")\n",
        "\n",
        "# Another way to multiply using \"at\" symbol - @\n",
        "v6=v3@v4\n",
        "print(v6)\n",
        "print(\"\")\n",
        "print(v6.shape)\n"
      ]
    },
    {
      "cell_type": "markdown",
      "id": "23338191",
      "metadata": {
        "id": "23338191"
      },
      "source": [
        "### Matrix Inverse"
      ]
    },
    {
      "cell_type": "code",
      "execution_count": 10,
      "id": "7aa2038b",
      "metadata": {
        "colab": {
          "base_uri": "https://localhost:8080/"
        },
        "id": "7aa2038b",
        "outputId": "4dda20df-bc3b-4253-e5a0-e171e4ee538c"
      },
      "outputs": [
        {
          "output_type": "stream",
          "name": "stdout",
          "text": [
            "[[ 2  4  6]\n",
            " [ 8 10 12]]\n",
            "\n",
            "(2, 3)\n",
            "\n",
            "\n",
            "(3, 2)\n",
            "\n",
            "[[ 88 112]\n",
            " [196 256]]\n",
            "\n",
            "Inverse:\n",
            "\n",
            "[[ 0.44444444 -0.19444444]\n",
            " [-0.34027778  0.15277778]]\n",
            "\n",
            "(2, 2)\n"
          ]
        }
      ],
      "source": [
        "# numpy uses the \"np.linalg.inv()\" function to calculate the \n",
        "# inverse of a square matrix\n",
        "\n",
        "v3=np.array([[2,4,6],\n",
        "             [8,10,12]])\n",
        "print(v3)\n",
        "print(\"\")\n",
        "print(v3.shape)\n",
        "print(\"\")\n",
        "\n",
        "# Creating a 3x2 matrix\n",
        "v4=np.array([[2,4], [6,8], \n",
        "             [10,12]])\n",
        "print(\"\")\n",
        "print(v4.shape)\n",
        "print(\"\")\n",
        "\n",
        "v5 = v3@v4\n",
        "print(v5)\n",
        "print(\"\")\n",
        "\n",
        "v5_inv=np.linalg.inv(v5)\n",
        "print(\"Inverse:\")\n",
        "print(\"\")\n",
        "print(v5_inv)\n",
        "print(\"\")\n",
        "print(v5_inv.shape)"
      ]
    },
    {
      "cell_type": "markdown",
      "id": "c03bf34b",
      "metadata": {
        "id": "c03bf34b"
      },
      "source": [
        "## Part II:  Calculating the Beta Coefficients for a Linear Regression and Writing out the Prediction Equation"
      ]
    },
    {
      "cell_type": "markdown",
      "id": "e07ab8ca",
      "metadata": {
        "id": "e07ab8ca"
      },
      "source": [
        "### First we create a response vector Y and a predictor matrix X for the assignment"
      ]
    },
    {
      "cell_type": "code",
      "execution_count": 11,
      "id": "c37b9308",
      "metadata": {
        "colab": {
          "base_uri": "https://localhost:8080/"
        },
        "id": "c37b9308",
        "outputId": "e9c6440f-a6f9-4cc6-cbaf-e11db72596a3"
      },
      "outputs": [
        {
          "output_type": "stream",
          "name": "stdout",
          "text": [
            "[ 1  0  1  4  3  2  5  6  9 13 15 16]\n"
          ]
        }
      ],
      "source": [
        "# Import numpy module\n",
        "import numpy as np\n",
        "\n",
        "# Consider the Y vector to be a variable labeled \"Missed Days at Work\";\n",
        "# there are 12 rows (objects)\n",
        "\n",
        "Y=np.array([1,0,1,4,3,2,5,6,9,13,15,16])\n",
        "print(Y)"
      ]
    },
    {
      "cell_type": "code",
      "execution_count": 12,
      "id": "8a80a290",
      "metadata": {
        "colab": {
          "base_uri": "https://localhost:8080/"
        },
        "id": "8a80a290",
        "outputId": "35c3367a-01cd-4218-f2a3-0c9fa3a2065a"
      },
      "outputs": [
        {
          "output_type": "stream",
          "name": "stdout",
          "text": [
            "[[ 1  1  1]\n",
            " [ 1  2  1]\n",
            " [ 1  2  2]\n",
            " [ 1  3  2]\n",
            " [ 1  5  4]\n",
            " [ 1  5  6]\n",
            " [ 1  6  5]\n",
            " [ 1  7  4]\n",
            " [ 1 10  8]\n",
            " [ 1 11  7]\n",
            " [ 1 11  9]\n",
            " [ 1 12 10]]\n"
          ]
        }
      ],
      "source": [
        "# Consider column 2 of X to be a variable labeled \"Attitude Toward Work\" - a 1 to 13 point\n",
        "# rating scale where 1 is extremely favorable and 13 is extremely unfavorable;\n",
        "# and consider column 3 of X to be a variable labeled \"Years in Present Position\";\n",
        "# X has 12 rows and 3 columns;  the first column is all 1's\n",
        "\n",
        "X=np.array([[1,1,1],\n",
        "           [1,2,1],\n",
        "           [1,2,2],\n",
        "           [1,3,2],\n",
        "           [1,5,4],\n",
        "           [1,5,6],\n",
        "           [1,6,5],\n",
        "           [1,7,4],\n",
        "           [1,10,8],\n",
        "           [1,11,7],\n",
        "           [1,11,9],\n",
        "           [1,12,10]])\n",
        "print(X)"
      ]
    },
    {
      "cell_type": "code",
      "execution_count": 13,
      "id": "dec49572",
      "metadata": {
        "colab": {
          "base_uri": "https://localhost:8080/"
        },
        "id": "dec49572",
        "outputId": "1129d98b-5013-43fe-eb27-fb8b965d27fe"
      },
      "outputs": [
        {
          "output_type": "execute_result",
          "data": {
            "text/plain": [
              "(12,)"
            ]
          },
          "metadata": {},
          "execution_count": 13
        }
      ],
      "source": [
        "# Dimensions of Y: a 12 by 1 vector\n",
        "Y.shape"
      ]
    },
    {
      "cell_type": "code",
      "execution_count": 14,
      "id": "addc5c50",
      "metadata": {
        "colab": {
          "base_uri": "https://localhost:8080/"
        },
        "id": "addc5c50",
        "outputId": "ff772d22-f12f-4237-87a5-9fc43c626523"
      },
      "outputs": [
        {
          "output_type": "execute_result",
          "data": {
            "text/plain": [
              "(12, 3)"
            ]
          },
          "metadata": {},
          "execution_count": 14
        }
      ],
      "source": [
        "# Dimensions of X: a 12 by 3 matrix\n",
        "X.shape"
      ]
    },
    {
      "cell_type": "markdown",
      "id": "7759814f",
      "metadata": {
        "id": "7759814f"
      },
      "source": [
        "## Calculating Linear Regression Betas\n",
        "### Using the following matrix formulation for the betas:\n",
        "$$ \\hat{\\beta }= (X^{T}*X)^{-1}*X^{T}*Y$$\n"
      ]
    },
    {
      "cell_type": "code",
      "source": [
        "from numpy.linalg import inv\n",
        "X_tran= X.T\n",
        "print(\"Y matrix\")\n",
        "print(Y)\n",
        "print(\"X matrix\")\n",
        "print(X)\n",
        "beta_values = np.dot(np.dot((inv(np.dot(X_tran,X))),X_tran),Y)\n",
        "print(\"beta values\")\n",
        "beta_values"
      ],
      "metadata": {
        "colab": {
          "base_uri": "https://localhost:8080/"
        },
        "id": "4WtXK3I5uWDA",
        "outputId": "723182f3-d0b7-4572-ef46-3da610ff2e20"
      },
      "id": "4WtXK3I5uWDA",
      "execution_count": 21,
      "outputs": [
        {
          "output_type": "stream",
          "name": "stdout",
          "text": [
            "Y matrix\n",
            "[ 1  0  1  4  3  2  5  6  9 13 15 16]\n",
            "X matrix\n",
            "[[ 1  1  1]\n",
            " [ 1  2  1]\n",
            " [ 1  2  2]\n",
            " [ 1  3  2]\n",
            " [ 1  5  4]\n",
            " [ 1  5  6]\n",
            " [ 1  6  5]\n",
            " [ 1  7  4]\n",
            " [ 1 10  8]\n",
            " [ 1 11  7]\n",
            " [ 1 11  9]\n",
            " [ 1 12 10]]\n",
            "beta values\n"
          ]
        },
        {
          "output_type": "execute_result",
          "data": {
            "text/plain": [
              "array([-2.2630379 ,  1.54972927, -0.2385295 ])"
            ]
          },
          "metadata": {},
          "execution_count": 21
        }
      ]
    },
    {
      "cell_type": "markdown",
      "id": "108a426b",
      "metadata": {
        "id": "108a426b"
      },
      "source": [
        "- __Using the Y vector and the X matrix defined above, calculate the betas using the matrix operations:  transpose, matrix multiplication,  and the inverse__.  Section 16.4.1 of __PPNM__ gives a good example of using the numpy module to calculate the betas using the matrix formulation.  Use these betas to write out the prediction equation for Y predict, leaving the Y, X, and Epsilon as symbolic variables"
      ]
    },
    {
      "cell_type": "markdown",
      "id": "16ae0c0f",
      "metadata": {
        "id": "16ae0c0f"
      },
      "source": [
        "## Part III:  Calculations Showing that $A$ and $A^{-1}$ Multiplied Give the Identity Matrix"
      ]
    },
    {
      "cell_type": "markdown",
      "id": "1c4893ff",
      "metadata": {
        "id": "1c4893ff"
      },
      "source": [
        "In class we used the following matrix A and it's inverse as example in class.   Below are the numpy commands that would multiply these matrices together to get back the identity matrix.   __Your task is to write out the multiplication of these two matrices by hand (I suggest pencil and paper) - STEP BY STEP - SHOWING ALL OF THE CALCULATIONS - the additions and the multiplications of each dot product before reducing.  You will not get credit for the hand calculations if you do not show all of your work.__   "
      ]
    },
    {
      "cell_type": "code",
      "execution_count": 28,
      "id": "a837a9cb",
      "metadata": {
        "scrolled": true,
        "colab": {
          "base_uri": "https://localhost:8080/"
        },
        "id": "a837a9cb",
        "outputId": "0a878d48-3272-454e-90b3-e2c363165355"
      },
      "outputs": [
        {
          "output_type": "stream",
          "name": "stdout",
          "text": [
            "[[ 2  3]\n",
            " [-1  4]]\n",
            "\n",
            "(2, 2)\n",
            "\n",
            "[[ 0.36363636 -0.27272727]\n",
            " [ 0.09090909  0.18181818]]\n",
            "\n",
            "(2, 2)\n",
            "\n",
            "[[1.00000000e+00 5.55111512e-17]\n",
            " [0.00000000e+00 1.00000000e+00]]\n",
            "\n"
          ]
        }
      ],
      "source": [
        "# Define A matrix\n",
        "A=np.array([[2,3],\n",
        "             [-1, 4]])\n",
        "print(A)\n",
        "print(\"\")\n",
        "print(A.shape)\n",
        "print(\"\")\n",
        "\n",
        "# Create inverse of A matrix  \n",
        "A_inv=np.array([[4/11,-3/11], \n",
        "              [1/11,2/11]])\n",
        "print(A_inv)\n",
        "print(\"\")\n",
        "print(A_inv.shape)\n",
        "print(\"\")\n",
        "\n",
        "# Multiply the two matrices to get back the identity matrix \n",
        "ident_A = A @ A_inv\n",
        "print(ident_A)\n",
        "print(\"\")\n"
      ]
    },
    {
      "cell_type": "code",
      "source": [
        "import numpy as np\n",
        "A = np.array([[2, 3],[-1, 4]])\n",
        "\n",
        "A_inv = np.linalg.inv(A)\n",
        "\n",
        "new = np.dot(A,A_inv)\n",
        "\n",
        "print(new) "
      ],
      "metadata": {
        "colab": {
          "base_uri": "https://localhost:8080/"
        },
        "id": "sNmKiGvZ1Wst",
        "outputId": "dae7fac3-2469-402e-ff20-fc7540874970"
      },
      "id": "sNmKiGvZ1Wst",
      "execution_count": 36,
      "outputs": [
        {
          "output_type": "stream",
          "name": "stdout",
          "text": [
            "[[1.00000000e+00 5.55111512e-17]\n",
            " [0.00000000e+00 1.00000000e+00]]\n"
          ]
        }
      ]
    },
    {
      "cell_type": "markdown",
      "id": "1ad2d5f8",
      "metadata": {
        "id": "1ad2d5f8"
      },
      "source": [
        "### You will need to submit the following to the upload field for the assignment:\n",
        "\n",
        "- Submit your .ipynb notebook - make sure to run the notebook in it's entirety and do not hide (collapse) any output cells!   \n",
        "- Submit a .pdf or .doc file showing your results of your ipynb notebook calculations \n",
        "- And lastly submit your hand calculations \n",
        "<br><br>\n",
        "Feel free to compare your python results with the R results before submitting your ipython notebook and .pdf/.doc file."
      ]
    },
    {
      "cell_type": "code",
      "execution_count": null,
      "id": "85a94d78",
      "metadata": {
        "id": "85a94d78"
      },
      "outputs": [],
      "source": []
    }
  ],
  "metadata": {
    "kernelspec": {
      "display_name": "Python 3 (ipykernel)",
      "language": "python",
      "name": "python3"
    },
    "language_info": {
      "codemirror_mode": {
        "name": "ipython",
        "version": 3
      },
      "file_extension": ".py",
      "mimetype": "text/x-python",
      "name": "python",
      "nbconvert_exporter": "python",
      "pygments_lexer": "ipython3",
      "version": "3.9.7"
    },
    "colab": {
      "provenance": []
    }
  },
  "nbformat": 4,
  "nbformat_minor": 5
}