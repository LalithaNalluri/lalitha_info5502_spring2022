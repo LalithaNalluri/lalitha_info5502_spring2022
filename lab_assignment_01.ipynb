{
  "cells": [
    {
      "cell_type": "markdown",
      "metadata": {
        "id": "view-in-github",
        "colab_type": "text"
      },
      "source": [
        "<a href=\"https://colab.research.google.com/github/lalitha11553237/lalitha_info5502_spring2022/blob/main/lab_assignment_01.ipynb\" target=\"_parent\"><img src=\"https://colab.research.google.com/assets/colab-badge.svg\" alt=\"Open In Colab\"/></a>"
      ]
    },
    {
      "cell_type": "markdown",
      "metadata": {
        "id": "DymRJbxDBCnf"
      },
      "source": [
        "# **The first Lab-assignment (01/25/2022, 50 points in total)**"
      ]
    },
    {
      "cell_type": "markdown",
      "metadata": {
        "id": "jJDe71iLB616"
      },
      "source": [
        "(1) Write a Python program to count the number of characters in a string. (5 points)\n",
        "\n",
        "Sample String : 'google.com', \n",
        "\n",
        "Expected Result : {'o': 3, 'g': 2, '.': 1, 'e': 1, 'l': 1, 'm': 1, 'c': 1}"
      ]
    },
    {
      "cell_type": "code",
      "execution_count": null,
      "metadata": {
        "colab": {
          "base_uri": "https://localhost:8080/"
        },
        "id": "MtKskTzbCLaU",
        "outputId": "22b28732-db2d-4244-b039-7581b14666fc"
      },
      "outputs": [
        {
          "output_type": "stream",
          "name": "stdout",
          "text": [
            "ENter Stringgoogle.com\n",
            "{'o': 3, 'g': 2, 'l': 1, 'c': 1, 'e': 1, 'm': 1, '.': 1}\n"
          ]
        }
      ],
      "source": [
        "# importing pandas\n",
        "import pandas as pd\n",
        "\n",
        "strng = input('Enter String')\n",
        "\n",
        "dictionary={}\n",
        "\n",
        "d =  pd.Series(list(strng)).value_counts()  #Thid will convert the string into list and for each character in the list it will count number of occurences\n",
        "\n",
        "dictionary=d.to_dict()\n",
        "\n",
        "print(dictionary)\n",
        "\n"
      ]
    },
    {
      "cell_type": "markdown",
      "metadata": {
        "id": "55W9AMdXCSpV"
      },
      "source": [
        "(2) Write a Python program to sum all the items in a list. (5 points)"
      ]
    },
    {
      "cell_type": "code",
      "execution_count": null,
      "metadata": {
        "colab": {
          "base_uri": "https://localhost:8080/"
        },
        "id": "I57NXsauCec2",
        "outputId": "fa71eb86-d439-433a-b1c1-3b64d3e7e5c6"
      },
      "outputs": [
        {
          "output_type": "stream",
          "name": "stdout",
          "text": [
            "Please enter list of items, each separated with list1 2 3 4\n",
            "<map object at 0x7f680a623390>\n",
            "10\n"
          ]
        }
      ],
      "source": [
        "lst1= input(\"Please enter list of items, each separated with space\")\n",
        "lst=list(lst1.split(\" \"))\n",
        "lst=map(int,lst) #converting each element in the list to integer\n",
        "print(lst)\n",
        "Sum=0\n",
        "for item in lst:\n",
        "  Sum += item   #add all item in the list\n",
        "print(Sum)\n"
      ]
    },
    {
      "cell_type": "markdown",
      "metadata": {
        "id": "4ulBZ6yhCi9F"
      },
      "source": [
        "(3) Write a Python program to get a string from a given string where all occurrences of its first char have been changed to '\\$', except the first char itself. (5 points)\n",
        "\n",
        "Sample String : 'restart', \n",
        "\n",
        "Expected Result : 'resta\\$t'"
      ]
    },
    {
      "cell_type": "code",
      "execution_count": null,
      "metadata": {
        "colab": {
          "base_uri": "https://localhost:8080/"
        },
        "id": "Fj0XhwbBCw2o",
        "outputId": "09c5363c-13ba-41ea-c7ad-0234b892fb2a"
      },
      "outputs": [
        {
          "output_type": "stream",
          "name": "stdout",
          "text": [
            "resta$t\n"
          ]
        }
      ],
      "source": [
        "string='restart'\n",
        "frst_char=string[0]\n",
        "#In this code first we will replace all occurances of first character to $, Then replace the first character to it's original\n",
        "string=string.replace(frst_char,'$')\n",
        "string=frst_char+string[1:]\n",
        "print(string)"
      ]
    },
    {
      "cell_type": "markdown",
      "metadata": {
        "id": "_bIP7s1MCzue"
      },
      "source": [
        "(4) Write a program with python which could accept two parameter a and b to calculate and output the result of S, where \n",
        "\n",
        "$\\ S=3.14*(1+a/b)^3$ (5 points)\n",
        "\n"
      ]
    },
    {
      "cell_type": "code",
      "execution_count": null,
      "metadata": {
        "colab": {
          "base_uri": "https://localhost:8080/"
        },
        "id": "w79QilHXD3Mg",
        "outputId": "dc14915d-9c7c-49c3-f7ce-ccce979ea395"
      },
      "outputs": [
        {
          "output_type": "stream",
          "name": "stdout",
          "text": [
            "84.78\n"
          ]
        }
      ],
      "source": [
        "import math;\n",
        "def calc(a,b):\n",
        "  s=0\n",
        "  s=3.14*(1+a/b)**3\n",
        "  return s\n",
        "\n",
        "print(calc(10,5))\n",
        "\n"
      ]
    },
    {
      "cell_type": "markdown",
      "metadata": {
        "id": "xCa2bK9aD4Q3"
      },
      "source": [
        "(5) Write a Python program to concatenate following dictionaries to create a new one. (5 points)\n",
        "\n",
        "Sample Dictionary : dic1={1:10, 2:20}, dic2={3:30, 4:40}, dic3={5:50,6:60}, \n",
        "\n",
        "Expected Result : {1: 10, 2: 20, 3: 30, 4: 40, 5: 50, 6: 60}\n"
      ]
    },
    {
      "cell_type": "code",
      "execution_count": null,
      "metadata": {
        "colab": {
          "base_uri": "https://localhost:8080/"
        },
        "id": "_z4aLqAbEET1",
        "outputId": "da1749b5-e59c-47ce-9e0a-a6223b780753"
      },
      "outputs": [
        {
          "output_type": "stream",
          "name": "stdout",
          "text": [
            "{1: 10, 2: 20, 3: 30, 4: 40, 5: 50, 6: 60}\n"
          ]
        }
      ],
      "source": [
        "dic1={1:10, 2:20}\n",
        "dic2={3:30, 4:40}\n",
        "dic3={5:50,6:60}\n",
        "dic5={**dic1,**dic2,**dic3} #** will replace contents of dictionary and can be used to merge dictionaries\n",
        "print(dic5)\n"
      ]
    },
    {
      "cell_type": "markdown",
      "metadata": {
        "id": "0v48Vqa7FrQh"
      },
      "source": [
        "(6) Write a Python program to check whether an element exists within a tuple. (5 points)"
      ]
    },
    {
      "cell_type": "code",
      "execution_count": null,
      "metadata": {
        "id": "7WEmgq-DF2P1",
        "colab": {
          "base_uri": "https://localhost:8080/"
        },
        "outputId": "ff5bb75b-cd18-4361-9b00-66f2725c2747"
      },
      "outputs": [
        {
          "output_type": "stream",
          "name": "stdout",
          "text": [
            "enter tuple elements with space1 2 3 4\n",
            "Enter element to find3\n",
            "Element Found\n"
          ]
        }
      ],
      "source": [
        "Tup=input(\"enter tuple elements with space\")\n",
        "tup=tuple(Tup.split(\" \"))\n",
        "\n",
        "E = input(\"Enter element to find\")\n",
        "#search for element in tuple, if it's found then printing the same, if not it will print the same\n",
        "if (E in tup):\n",
        "  print(\"Element Found\") \n",
        "else:\n",
        "  print(\"Element not found\")\n"
      ]
    },
    {
      "cell_type": "markdown",
      "metadata": {
        "id": "vD5PYLMuGga_"
      },
      "source": [
        "(7) Write a Python program to find maximum and the minimum value in a set. (5 points)"
      ]
    },
    {
      "cell_type": "code",
      "execution_count": null,
      "metadata": {
        "id": "t0D5kdJUGjjw",
        "colab": {
          "base_uri": "https://localhost:8080/"
        },
        "outputId": "fd311211-bb18-42bc-d55b-32c440ebf27a"
      },
      "outputs": [
        {
          "output_type": "stream",
          "name": "stdout",
          "text": [
            "enter tuple elements with space1 2 3 4 5\n",
            "Maximum value of set is  5\n",
            "minimum value of set is  1\n"
          ]
        }
      ],
      "source": [
        "import math\n",
        "S=input(\"enter tuple elements with space\")\n",
        "s=set(S.split(\" \")) #splitting each element and converting the entire data type to set\n",
        "\n",
        "print(\"Maximum value of set is \", max(s)) #Printing maximum of set\n",
        "print(\"minimum value of set is \",min(s)) #printing minimum of set\n",
        "\n"
      ]
    },
    {
      "cell_type": "markdown",
      "metadata": {
        "id": "uHkd-y5VhVWC"
      },
      "source": [
        "(8) Write a Python program to randomly divide the students in this class into six groups for term projects, each group should have at least 4 students but no more than 6 students (including 6). Here is the students list: (5 points)\n",
        "\n",
        "studnet_list = ['ja0964','sa1198','sb1357','vb0218','sc1229','kg0569','kg0470','sg1297','bg0320','fh0141','jl1252','sk1386',\n",
        "           'ak0956','sk1390','sk1458','sk1313','ak0934','vm0377','nm0618','sm1640','sm1907','gn0108','pr0353','dr0609','ms1500','aos0040','ds0814', 'av0659','nv0234','hy0232']"
      ]
    },
    {
      "cell_type": "code",
      "execution_count": 4,
      "metadata": {
        "id": "3iGbmcOBhTwy",
        "colab": {
          "base_uri": "https://localhost:8080/"
        },
        "outputId": "808f85c3-599d-4324-ded1-c4df863bc468"
      },
      "outputs": [
        {
          "output_type": "stream",
          "name": "stdout",
          "text": [
            "['dr0609', 'sg1297', 'vb0218', 'av0659', 'sm1640', 'ds0814']\n",
            "['aos0040', 'nm0618', 'nv0234', 'pr0353']\n",
            "['gn0108', 'sk1386', 'sm1907', 'sc1229']\n",
            "['jl1252', 'sk1390', 'ms1500', 'fh0141', 'sb1357']\n",
            "['sa1198', 'ak0956', 'hy0232', 'vm0377', 'kg0569', 'kg0470']\n",
            "['sk1313', 'bg0320', 'ja0964', 'ak0934', 'sk1458']\n"
          ]
        }
      ],
      "source": [
        "import random\n",
        "from numpy.lib.shape_base import array_split\n",
        "import numpy as np\n",
        "\n",
        "from random import shuffle\n",
        "\n",
        "studnet_list = ['ja0964','sa1198','sb1357','vb0218','sc1229','kg0569','kg0470',\n",
        "'sg1297','bg0320','fh0141','jl1252','sk1386', 'ak0956','sk1390','sk1458','sk1313'\n",
        ",'ak0934','vm0377','nm0618','sm1640','sm1907','gn0108','pr0353','dr0609','ms1500'\n",
        ",'aos0040','ds0814', 'av0659','nv0234','hy0232']\n",
        "\n",
        "l=[]\n",
        "i=0\n",
        "len1 = len(studnet_list) #calculate the lenght of list\n",
        "while i<6:\n",
        "    shuffle(studnet_list)  #shuffling all items in list randomly\n",
        "    l.append(studnet_list[:4]) #Place 4 items from the list L in 6 groups\n",
        "    del studnet_list[:4] #delete already placed items\n",
        "    i=i+1\n",
        "sum1 = len(studnet_list) #calculating the length of remaining items in the list\n",
        "flag = True\n",
        "while(flag is True):\n",
        "  randInteger = random.randint(0,2) #getting an integer beteen 0 and 2\n",
        "  if(sum1<=0): #if the length of student list is 0 or less then we are exiting the loop\n",
        "      flag = False\n",
        "      break\n",
        "  randList = random.randint(0,5) #as we have made 6 groups, we are taking each one randomly\n",
        "  if(len(l[randList])+randInteger<=6) and (randInteger <= sum1):\n",
        "      sum1 = sum1 - randInteger\n",
        "      shuffle(studnet_list)\n",
        "      l[randList].extend(studnet_list[0:randInteger]) #adding remaining elements of student list to sublists\n",
        "      del studnet_list[:randInteger] #Deleting each element that was added from student list\n",
        "for i in l:\n",
        "    print(i) #printing the elements"
      ]
    },
    {
      "cell_type": "code",
      "source": [
        ""
      ],
      "metadata": {
        "id": "0Xfevf7-Jqcu"
      },
      "execution_count": null,
      "outputs": []
    },
    {
      "cell_type": "markdown",
      "metadata": {
        "id": "KHoyIgnAR1y0"
      },
      "source": [
        "(9) Write a Python program to find the duplicate elements in a given array of integers. Return -1 If there are no such elements. (5 points)"
      ]
    },
    {
      "cell_type": "code",
      "execution_count": null,
      "metadata": {
        "colab": {
          "base_uri": "https://localhost:8080/"
        },
        "id": "KSom0VUyR1y0",
        "outputId": "d7f4894d-fce8-42f0-a56c-850cfd88b7d3"
      },
      "outputs": [
        {
          "output_type": "stream",
          "name": "stdout",
          "text": [
            "enter array elements1 2 2 3 3\n",
            "[2, 3]\n"
          ]
        }
      ],
      "source": [
        "def dup_ele():\n",
        "  #taking array elements as input and splitting them to a list using the split()\n",
        "  #method\n",
        "  arr=[int(i) for i in list(input(\"enter array elements\").split(\" \"))]\n",
        "  arrayOfNumbers = array(arr)\n",
        "  noDuplicates, duplicates = [],[] #empty arrays will help us to store duplicates and non duplicates separatly\n",
        "  for i in arr:\n",
        "    if(i not in noDuplicates):\n",
        "      noDuplicates.append(i) #this will add no duplicates numbers to noDuplicates array \n",
        "    else:\n",
        "      if(i not in duplicates):\n",
        "        duplicates.append(i) #this will add duplicates numbers to Duplicates array \n",
        "  return duplicates\n",
        "  \n",
        "\n",
        "print(dup_ele())\n",
        "\n",
        " \n",
        "\n"
      ]
    },
    {
      "cell_type": "markdown",
      "metadata": {
        "id": "-53C0gkbR1y0"
      },
      "source": [
        "(10) Write a Python program to select all the Sundays of a specified year. (5 extra points)"
      ]
    },
    {
      "cell_type": "code",
      "execution_count": null,
      "metadata": {
        "colab": {
          "base_uri": "https://localhost:8080/",
          "height": 989
        },
        "id": "61rHnmobR1y0",
        "outputId": "be99bee9-6df4-4041-b9ca-730d7747065b"
      },
      "outputs": [
        {
          "output_type": "stream",
          "name": "stdout",
          "text": [
            "enter the year2022\n",
            "2022-01-09\n",
            "2022-01-16\n",
            "2022-01-23\n",
            "2022-01-30\n",
            "2022-02-06\n",
            "2022-02-13\n",
            "2022-02-20\n",
            "2022-02-27\n",
            "2022-03-06\n",
            "2022-03-13\n",
            "2022-03-20\n",
            "2022-03-27\n",
            "2022-04-03\n",
            "2022-04-10\n",
            "2022-04-17\n",
            "2022-04-24\n",
            "2022-05-01\n",
            "2022-05-08\n",
            "2022-05-15\n",
            "2022-05-22\n",
            "2022-05-29\n",
            "2022-06-05\n",
            "2022-06-12\n",
            "2022-06-19\n",
            "2022-06-26\n",
            "2022-07-03\n",
            "2022-07-10\n",
            "2022-07-17\n",
            "2022-07-24\n",
            "2022-07-31\n",
            "2022-08-07\n",
            "2022-08-14\n",
            "2022-08-21\n",
            "2022-08-28\n",
            "2022-09-04\n",
            "2022-09-11\n",
            "2022-09-18\n",
            "2022-09-25\n",
            "2022-10-02\n",
            "2022-10-09\n",
            "2022-10-16\n",
            "2022-10-23\n",
            "2022-10-30\n",
            "2022-11-06\n",
            "2022-11-13\n",
            "2022-11-20\n",
            "2022-11-27\n",
            "2022-12-04\n",
            "2022-12-11\n",
            "2022-12-18\n",
            "2022-12-25\n",
            "2023-01-01\n"
          ]
        },
        {
          "output_type": "execute_result",
          "data": {
            "application/vnd.google.colaboratory.intrinsic+json": {
              "type": "string"
            },
            "text/plain": [
              "'\\nBelow code is developed on the fact \\n\"Every year has 52 sundays except when it\\'s a leap year or the year starts with sunday\"\\n\\nif year%4 != 0:\\n  if a.weekday() != 6:\\n    print(\"number of sundays are: \",NumOfSundays)\\n  else:\\n    print(\"number of sundays are: \",NumOfSundays+1)\\nelse:\\n  NumOfSundays+=1\\n  print(\"number of sundays are: \",NumOfSundays)\\n'"
            ]
          },
          "metadata": {},
          "execution_count": 72
        }
      ],
      "source": [
        "from datetime import date,datetime, timedelta\n",
        "\n",
        "year=int(input(\"enter the year\"))\n",
        "a=date(year, 1, 1) #get the first date of year\n",
        "a=a+timedelta(days=(6-a.weekday())) #get date of first sunday of year\n",
        "while a.year == year:\n",
        "  a+=timedelta(days=7) #adding 7 days from the first sunday till the last one of that year\n",
        "  print(a)\n",
        "\n",
        "\n",
        "\n",
        "\n"
      ]
    }
  ],
  "metadata": {
    "colab": {
      "collapsed_sections": [],
      "name": "lab_assignment_01.ipynb",
      "provenance": [],
      "include_colab_link": true
    },
    "kernelspec": {
      "display_name": "Python 3 (ipykernel)",
      "language": "python",
      "name": "python3"
    },
    "language_info": {
      "codemirror_mode": {
        "name": "ipython",
        "version": 3
      },
      "file_extension": ".py",
      "mimetype": "text/x-python",
      "name": "python",
      "nbconvert_exporter": "python",
      "pygments_lexer": "ipython3",
      "version": "3.10.2"
    }
  },
  "nbformat": 4,
  "nbformat_minor": 0
}