{
 "cells": [
  {
   "cell_type": "markdown",
   "metadata": {},
   "source": [
    "### INFO 5502 Final Exam (05/12/2022, 240 points in total)"
   ]
  },
  {
   "cell_type": "markdown",
   "metadata": {},
   "source": [
    "<span style='background:yellow'>**Question 3 (100 pt, each sub-question is 10 pt).**</span> \n",
    "\n",
    "Part A: Given Inetd dataset, an intrusion detection dataset that contains 2 columns. The first column represents a process ID number (PID) and the second column represents a system call. The goal is to extract the entire system call sequence by its PID, then tokenize and parse each sequence into 25-grams. After this, we’ll split the data into training and testing sets. Next, we ensure data quality in the training dataset by removing duplicate sequences within each class and overlapped sequences between both classes. To ensure a fair evaluation, we also clean the testing set by repeating the previous step. You will implement a Decision Tree model to train and test on the training set and testing set that we just clean. \n",
    "\n",
    "\n",
    "Part B: As the data type is sequential, we want to know how similar the sequences from both classes are and visualize how the similarity scores vary in different sequence lengths. Compute a cosine similarity score of 100 random pairs from both classes and get a median cosine similarity. Repeat this step in different sequence lengths (5, 10, 15, and 20). Plot a line chart to visualize how the median cosine similarities vary through sequence lengths of 5 to 25. \n",
    "\n",
    "You can download the datasets from github: https://github.com/unt-iialab/info5502-spring2022/tree/main/finalexam/q4\n",
    "\n",
    "\n",
    "Step by step instructions and questions:\n",
    "\n",
    "(1) Attached are the Normal and Intrusion data folders. Read in the data and store them in two separate dataframes. Combine the system calls (the second column) from the same PID (the first column) into a sequence or a string. \n",
    "\n",
    "(2) Parse an entire sequence into smaller sequences of size 25. (Hint: Use word_tokenize and ngrams from nltk library to parse).\n",
    "\n",
    "(3) Add labels to the data, and partition the labeled data into training data and testing data with a ratio of 70/30.\n",
    "\n",
    "(4) As the dataset has a lot of duplicate sequences, make sure that the testing data only contain unique sequences and that these sequences do not exist in the training data. Condense training data and testing data into two sets. Take the difference between the testing set and training set to remove the overlapped sequences from the testing data. \n",
    "\n",
    "(5) The sequences from each class can be repetitive, and some of these sequences may have different labels. Therefore, we need to remove the duplicate sequences within each class and the overlapped sequences from the Intrusion class. Start out by separating the Normal class and Intrusion class in the training data. Use the same concept in Question 4 to remove duplicate sequences and overlapped sequences from the training data.\n",
    "\n",
    "(6) Repeat Question 5 to clean the testing data.\n",
    "\n",
    "(7) Bootstrap the training data to get the same number of sequences from each class. Train and evaluate a Decision Tree model using the training data and testing data that we just clean. How is the performance?\n",
    "\n",
    "(8) Randomly sample 100 pairs of sequences from both classes and calculate the median cosine similarity.\n",
    "\n",
    "(9) Refer back to Question 2, parse the data into a length of 5, 10, 15, and 20. Clean the data from each class using Question 5. For each sequence length, calculate the median cosine similarity of 100 random pairs of sequences from both classes. \n",
    "\n",
    "(10) Plot a line chart to visualize how the median cosine similarities vary through different sequence lengths from 5 to 25.\n"
   ]
  },
  {
   "cell_type": "code",
   "execution_count": 1,
   "metadata": {},
   "outputs": [
    {
     "data": {
      "text/html": [
       "<div>\n",
       "<style scoped>\n",
       "    .dataframe tbody tr th:only-of-type {\n",
       "        vertical-align: middle;\n",
       "    }\n",
       "\n",
       "    .dataframe tbody tr th {\n",
       "        vertical-align: top;\n",
       "    }\n",
       "\n",
       "    .dataframe thead th {\n",
       "        text-align: right;\n",
       "    }\n",
       "</style>\n",
       "<table border=\"1\" class=\"dataframe\">\n",
       "  <thead>\n",
       "    <tr style=\"text-align: right;\">\n",
       "      <th></th>\n",
       "      <th>Pid</th>\n",
       "      <th>System_call</th>\n",
       "    </tr>\n",
       "  </thead>\n",
       "  <tbody>\n",
       "    <tr>\n",
       "      <th>0</th>\n",
       "      <td>167</td>\n",
       "      <td>90</td>\n",
       "    </tr>\n",
       "    <tr>\n",
       "      <th>1</th>\n",
       "      <td>167</td>\n",
       "      <td>125</td>\n",
       "    </tr>\n",
       "    <tr>\n",
       "      <th>2</th>\n",
       "      <td>167</td>\n",
       "      <td>125</td>\n",
       "    </tr>\n",
       "    <tr>\n",
       "      <th>3</th>\n",
       "      <td>167</td>\n",
       "      <td>106</td>\n",
       "    </tr>\n",
       "    <tr>\n",
       "      <th>4</th>\n",
       "      <td>167</td>\n",
       "      <td>5</td>\n",
       "    </tr>\n",
       "  </tbody>\n",
       "</table>\n",
       "</div>"
      ],
      "text/plain": [
       "   Pid  System_call\n",
       "0  167           90\n",
       "1  167          125\n",
       "2  167          125\n",
       "3  167          106\n",
       "4  167            5"
      ]
     },
     "execution_count": 1,
     "metadata": {},
     "output_type": "execute_result"
    }
   ],
   "source": [
    "#### You code here\n",
    "\n",
    "import pandas as pd\n",
    "import numpy as np\n",
    "\n",
    "df_inetd=pd.read_csv(\"https://raw.githubusercontent.com/unt-iialab/info5502-spring2022/main/finalexam/q4/inetd-intrusion.int\",header=None,sep='\\s+')\n",
    "#df_inetd.head()\n",
    "\n",
    "df_inetd.columns=[\"Pid\",\"System_call\"]\n",
    "df_inetd.head()\n",
    "\n",
    "#df_normal=pd.read_csv(\"https://github.com/unt-iialab/info5502-spring2022/blob/main/finalexam/q4/inetd-normal.int\",sep=\" \",header=None)\n",
    "\n",
    "\n",
    "#df_normal.columns=[\"Pid\",\"System_call\"]\n",
    "#df_normal.head()\n"
   ]
  },
  {
   "cell_type": "code",
   "execution_count": 2,
   "metadata": {},
   "outputs": [
    {
     "data": {
      "text/html": [
       "<div>\n",
       "<style scoped>\n",
       "    .dataframe tbody tr th:only-of-type {\n",
       "        vertical-align: middle;\n",
       "    }\n",
       "\n",
       "    .dataframe tbody tr th {\n",
       "        vertical-align: top;\n",
       "    }\n",
       "\n",
       "    .dataframe thead th {\n",
       "        text-align: right;\n",
       "    }\n",
       "</style>\n",
       "<table border=\"1\" class=\"dataframe\">\n",
       "  <thead>\n",
       "    <tr style=\"text-align: right;\">\n",
       "      <th></th>\n",
       "      <th>Pid</th>\n",
       "      <th>System_call</th>\n",
       "    </tr>\n",
       "  </thead>\n",
       "  <tbody>\n",
       "    <tr>\n",
       "      <th>0</th>\n",
       "      <td>167</td>\n",
       "      <td>90</td>\n",
       "    </tr>\n",
       "    <tr>\n",
       "      <th>1</th>\n",
       "      <td>167</td>\n",
       "      <td>125</td>\n",
       "    </tr>\n",
       "    <tr>\n",
       "      <th>2</th>\n",
       "      <td>167</td>\n",
       "      <td>125</td>\n",
       "    </tr>\n",
       "    <tr>\n",
       "      <th>3</th>\n",
       "      <td>167</td>\n",
       "      <td>106</td>\n",
       "    </tr>\n",
       "    <tr>\n",
       "      <th>4</th>\n",
       "      <td>167</td>\n",
       "      <td>5</td>\n",
       "    </tr>\n",
       "  </tbody>\n",
       "</table>\n",
       "</div>"
      ],
      "text/plain": [
       "   Pid  System_call\n",
       "0  167           90\n",
       "1  167          125\n",
       "2  167          125\n",
       "3  167          106\n",
       "4  167            5"
      ]
     },
     "execution_count": 2,
     "metadata": {},
     "output_type": "execute_result"
    }
   ],
   "source": [
    "normal_df = pd.read_csv(\"https://raw.githubusercontent.com/unt-iialab/info5502-spring2022/main/finalexam/q4/inetd-normal.int\", sep = \" \", header = None)\n",
    "normal_df.columns=[\"Pid\",\"System_call\"]\n",
    "normal_df.head()"
   ]
  },
  {
   "cell_type": "code",
   "execution_count": 4,
   "metadata": {},
   "outputs": [
    {
     "data": {
      "text/plain": [
       "'90 125 125 106 5 90 6 5 3 90 90 90 90 6 125 91 125 125 125 136 49 24 47 50 45 45 5 106 106 106 106 106 2 1'"
      ]
     },
     "execution_count": 4,
     "metadata": {},
     "output_type": "execute_result"
    }
   ],
   "source": [
    "intrusion_dict = {}\n",
    "normal_dict = {}\n",
    "\n",
    "# combining system calls\n",
    "for pid in list(set(df_inetd['Pid'].values)):\n",
    "    intrusion_dict[pid] = \" \".join(str(value) for value in list(df_inetd[df_inetd['Pid'] == pid]['System_call'].values))\n",
    "\n",
    "for pid in list(set(normal_df['Pid'].values)):\n",
    "    normal_dict[pid] = \" \".join(str(value) for value in list(normal_df[normal_df['Pid'] == pid]['System_call'].values))\n",
    "\n",
    "intrusion_dict[167]\n"
   ]
  },
  {
   "cell_type": "code",
   "execution_count": 5,
   "metadata": {},
   "outputs": [
    {
     "name": "stdout",
     "output_type": "stream",
     "text": [
      "7627\n",
      "469\n"
     ]
    }
   ],
   "source": [
    "import re\n",
    "from nltk.util import ngrams\n",
    "\n",
    "i_list = []\n",
    "n_list = []\n",
    "\n",
    "\n",
    "for key in intrusion_dict.keys():\n",
    "    s = intrusion_dict[key]\n",
    "    tokens = [token for token in s.split(\" \") if token != \"\"]\n",
    "    \n",
    "    for ele in list(ngrams(tokens, 25)):\n",
    "        i_list.append(ele)\n",
    "        \n",
    "for key in normal_dict.keys():\n",
    "    s = normal_dict[key]\n",
    "    tokens = [token for token in s.split(\" \") if token != \"\"]\n",
    "    \n",
    "    for ele in list(ngrams(tokens, 25)):\n",
    "        n_list.append(ele) \n",
    "\n",
    "print(len(i_list))\n",
    "print(len(n_list))"
   ]
  },
  {
   "cell_type": "code",
   "execution_count": 6,
   "metadata": {},
   "outputs": [
    {
     "name": "stdout",
     "output_type": "stream",
     "text": [
      "(7627, 26)\n",
      "(469, 26)\n"
     ]
    }
   ],
   "source": [
    "intrusion_df = pd.DataFrame(i_list)\n",
    "normal_df = pd.DataFrame(n_list)\n",
    "\n",
    "# adding labels to intrusion and normal data sequences\n",
    "intrusion_df['class'] = 1\n",
    "normal_df['class'] = 0\n",
    "\n",
    "print(intrusion_df.shape)\n",
    "print(normal_df.shape)"
   ]
  },
  {
   "cell_type": "code",
   "execution_count": 7,
   "metadata": {},
   "outputs": [
    {
     "name": "stdout",
     "output_type": "stream",
     "text": [
      "(8096, 26)\n"
     ]
    },
    {
     "name": "stderr",
     "output_type": "stream",
     "text": [
      "C:\\Users\\lalit\\AppData\\Local\\Temp\\ipykernel_4932\\3216987951.py:3: FutureWarning: The frame.append method is deprecated and will be removed from pandas in a future version. Use pandas.concat instead.\n",
      "  combined_df = combined_df.append(intrusion_df)\n",
      "C:\\Users\\lalit\\AppData\\Local\\Temp\\ipykernel_4932\\3216987951.py:4: FutureWarning: The frame.append method is deprecated and will be removed from pandas in a future version. Use pandas.concat instead.\n",
      "  combined_df = combined_df.append(normal_df)\n"
     ]
    }
   ],
   "source": [
    "combined_df = pd.DataFrame()\n",
    "\n",
    "combined_df = combined_df.append(intrusion_df)\n",
    "combined_df = combined_df.append(normal_df)\n",
    "\n",
    "print(combined_df.shape)"
   ]
  },
  {
   "cell_type": "code",
   "execution_count": 8,
   "metadata": {},
   "outputs": [
    {
     "name": "stderr",
     "output_type": "stream",
     "text": [
      "C:\\Users\\lalit\\AppData\\Local\\Programs\\Python\\Python310\\lib\\site-packages\\pandas\\core\\frame.py:6250: FutureWarning: In a future version, the Index constructor will not infer numeric dtypes when passed object-dtype sequences (matching Series behavior)\n",
      "  diff = Index(subset).difference(self.columns)\n"
     ]
    },
    {
     "data": {
      "text/plain": [
       "(333, 26)"
      ]
     },
     "execution_count": 8,
     "metadata": {},
     "output_type": "execute_result"
    }
   ],
   "source": [
    "combined_df = combined_df.drop_duplicates(subset = combined_df.columns[:-1], keep = 'last')\n",
    "combined_df.shape"
   ]
  },
  {
   "cell_type": "code",
   "execution_count": 9,
   "metadata": {},
   "outputs": [
    {
     "data": {
      "text/plain": [
       "Index([ 0,  1,  2,  3,  4,  5,  6,  7,  8,  9, 10, 11, 12, 13, 14, 15, 16, 17,\n",
       "       18, 19, 20, 21, 22, 23, 24],\n",
       "      dtype='object')"
      ]
     },
     "execution_count": 9,
     "metadata": {},
     "output_type": "execute_result"
    }
   ],
   "source": [
    "combined_df['class'].value_counts()\n",
    "combined_df.columns[:-1]"
   ]
  },
  {
   "cell_type": "code",
   "execution_count": 10,
   "metadata": {},
   "outputs": [
    {
     "name": "stdout",
     "output_type": "stream",
     "text": [
      "              precision    recall  f1-score   support\n",
      "\n",
      "           0       0.75      0.82      0.78        22\n",
      "           1       0.91      0.87      0.89        45\n",
      "\n",
      "    accuracy                           0.85        67\n",
      "   macro avg       0.83      0.84      0.83        67\n",
      "weighted avg       0.86      0.85      0.85        67\n",
      "\n"
     ]
    }
   ],
   "source": [
    "from sklearn.tree import DecisionTreeClassifier\n",
    "from sklearn import preprocessing\n",
    "from sklearn.metrics import classification_report\n",
    "from sklearn.model_selection import train_test_split\n",
    "\n",
    "X = combined_df.drop(\"class\", axis = 1)\n",
    "y = combined_df['class']\n",
    "\n",
    "X_train, X_valid, y_train, y_valid = train_test_split(X, y, test_size = 0.2, random_state = 0)\n",
    "\n",
    "dtclassifier = DecisionTreeClassifier(max_depth = 10)\n",
    "dtclassifier.fit(X_train, y_train)\n",
    "y_pred = dtclassifier.predict(X_valid)\n",
    "\n",
    "print(classification_report(y_valid, y_pred))"
   ]
  },
  {
   "cell_type": "code",
   "execution_count": 11,
   "metadata": {},
   "outputs": [
    {
     "name": "stderr",
     "output_type": "stream",
     "text": [
      "C:\\Users\\lalit\\AppData\\Local\\Temp\\ipykernel_4932\\1993428251.py:48: FutureWarning: The frame.append method is deprecated and will be removed from pandas in a future version. Use pandas.concat instead.\n",
      "  combined_df = combined_df.append(intrusion_df)\n",
      "C:\\Users\\lalit\\AppData\\Local\\Temp\\ipykernel_4932\\1993428251.py:49: FutureWarning: The frame.append method is deprecated and will be removed from pandas in a future version. Use pandas.concat instead.\n",
      "  combined_df = combined_df.append(normal_df)\n",
      "C:\\Users\\lalit\\AppData\\Local\\Programs\\Python\\Python310\\lib\\site-packages\\pandas\\core\\frame.py:6250: FutureWarning: In a future version, the Index constructor will not infer numeric dtypes when passed object-dtype sequences (matching Series behavior)\n",
      "  diff = Index(subset).difference(self.columns)\n",
      "C:\\Users\\lalit\\AppData\\Local\\Temp\\ipykernel_4932\\1993428251.py:48: FutureWarning: The frame.append method is deprecated and will be removed from pandas in a future version. Use pandas.concat instead.\n",
      "  combined_df = combined_df.append(intrusion_df)\n",
      "C:\\Users\\lalit\\AppData\\Local\\Temp\\ipykernel_4932\\1993428251.py:49: FutureWarning: The frame.append method is deprecated and will be removed from pandas in a future version. Use pandas.concat instead.\n",
      "  combined_df = combined_df.append(normal_df)\n",
      "C:\\Users\\lalit\\AppData\\Local\\Programs\\Python\\Python310\\lib\\site-packages\\pandas\\core\\frame.py:6250: FutureWarning: In a future version, the Index constructor will not infer numeric dtypes when passed object-dtype sequences (matching Series behavior)\n",
      "  diff = Index(subset).difference(self.columns)\n"
     ]
    },
    {
     "name": "stdout",
     "output_type": "stream",
     "text": [
      "(8776, 6)\n",
      "\n",
      "(168, 6)\n",
      "\n",
      "0.7820327756782337\n",
      "\n",
      "(8606, 11)\n",
      "\n",
      "(213, 11)\n",
      "\n",
      "0.7151156189452039\n",
      "\n",
      "(8436, 16)\n",
      "\n",
      "(254, 16)\n",
      "\n",
      "0.7249165541061693\n",
      "\n"
     ]
    },
    {
     "name": "stderr",
     "output_type": "stream",
     "text": [
      "C:\\Users\\lalit\\AppData\\Local\\Temp\\ipykernel_4932\\1993428251.py:48: FutureWarning: The frame.append method is deprecated and will be removed from pandas in a future version. Use pandas.concat instead.\n",
      "  combined_df = combined_df.append(intrusion_df)\n",
      "C:\\Users\\lalit\\AppData\\Local\\Temp\\ipykernel_4932\\1993428251.py:49: FutureWarning: The frame.append method is deprecated and will be removed from pandas in a future version. Use pandas.concat instead.\n",
      "  combined_df = combined_df.append(normal_df)\n",
      "C:\\Users\\lalit\\AppData\\Local\\Programs\\Python\\Python310\\lib\\site-packages\\pandas\\core\\frame.py:6250: FutureWarning: In a future version, the Index constructor will not infer numeric dtypes when passed object-dtype sequences (matching Series behavior)\n",
      "  diff = Index(subset).difference(self.columns)\n",
      "C:\\Users\\lalit\\AppData\\Local\\Temp\\ipykernel_4932\\1993428251.py:48: FutureWarning: The frame.append method is deprecated and will be removed from pandas in a future version. Use pandas.concat instead.\n",
      "  combined_df = combined_df.append(intrusion_df)\n",
      "C:\\Users\\lalit\\AppData\\Local\\Temp\\ipykernel_4932\\1993428251.py:49: FutureWarning: The frame.append method is deprecated and will be removed from pandas in a future version. Use pandas.concat instead.\n",
      "  combined_df = combined_df.append(normal_df)\n",
      "C:\\Users\\lalit\\AppData\\Local\\Programs\\Python\\Python310\\lib\\site-packages\\pandas\\core\\frame.py:6250: FutureWarning: In a future version, the Index constructor will not infer numeric dtypes when passed object-dtype sequences (matching Series behavior)\n",
      "  diff = Index(subset).difference(self.columns)\n"
     ]
    },
    {
     "name": "stdout",
     "output_type": "stream",
     "text": [
      "(8266, 21)\n",
      "\n",
      "(293, 21)\n",
      "\n",
      "0.7225481830982801\n",
      "\n",
      "(8096, 26)\n",
      "\n",
      "(333, 26)\n",
      "\n",
      "0.7231744985521069\n",
      "\n"
     ]
    },
    {
     "name": "stderr",
     "output_type": "stream",
     "text": [
      "C:\\Users\\lalit\\AppData\\Local\\Temp\\ipykernel_4932\\1993428251.py:48: FutureWarning: The frame.append method is deprecated and will be removed from pandas in a future version. Use pandas.concat instead.\n",
      "  combined_df = combined_df.append(intrusion_df)\n",
      "C:\\Users\\lalit\\AppData\\Local\\Temp\\ipykernel_4932\\1993428251.py:49: FutureWarning: The frame.append method is deprecated and will be removed from pandas in a future version. Use pandas.concat instead.\n",
      "  combined_df = combined_df.append(normal_df)\n",
      "C:\\Users\\lalit\\AppData\\Local\\Programs\\Python\\Python310\\lib\\site-packages\\pandas\\core\\frame.py:6250: FutureWarning: In a future version, the Index constructor will not infer numeric dtypes when passed object-dtype sequences (matching Series behavior)\n",
      "  diff = Index(subset).difference(self.columns)\n"
     ]
    }
   ],
   "source": [
    "import re\n",
    "from nltk.util import ngrams\n",
    "import pandas as pd\n",
    "\n",
    "cosine_similar_ngram = {}\n",
    "\n",
    "for ngram in range(5, 26, 5):\n",
    "\n",
    "    intrusion_data = pd.read_csv(\"https://raw.githubusercontent.com/unt-iialab/info5502-spring2022/main/finalexam/q4/inetd-intrusion.int\", sep = \" \", header = None)\n",
    "    normal_data = pd.read_csv(\"https://raw.githubusercontent.com/unt-iialab/info5502-spring2022/main/finalexam/q4/inetd-normal.int\", sep = \" \", header = None)\n",
    "\n",
    "    intrusion_data.columns = ['PID', 'SystemCalls']\n",
    "    normal_data.columns = ['PID', 'SystemCalls']\n",
    "\n",
    "    intrusion_dict = {}\n",
    "    normal_dict = {}\n",
    "\n",
    "    for pid in list(set(intrusion_data['PID'].values)):\n",
    "        intrusion_dict[pid] = \" \".join(str(value) for value in list(intrusion_data[intrusion_data['PID'] == pid]['SystemCalls'].values))\n",
    "\n",
    "    for pid in list(set(normal_data['PID'].values)):\n",
    "        normal_dict[pid] = \" \".join(str(value) for value in list(normal_data[normal_data['PID'] == pid]['SystemCalls'].values))\n",
    "\n",
    "    intrusion_list = []\n",
    "    normal_list = []\n",
    "    for key in intrusion_dict.keys():\n",
    "        s = intrusion_dict[key]\n",
    "        tokens = [token for token in s.split(\" \") if token != \"\"]\n",
    "\n",
    "        for ele in list(ngrams(tokens, ngram)):\n",
    "            intrusion_list.append(ele)\n",
    "\n",
    "    for key in normal_dict.keys():\n",
    "        s = normal_dict[key]\n",
    "        tokens = [token for token in s.split(\" \") if token != \"\"]\n",
    "\n",
    "        for ele in list(ngrams(tokens, ngram)):\n",
    "            normal_list.append(ele)\n",
    "\n",
    "    intrusion_df = pd.DataFrame(intrusion_list)\n",
    "    normal_df = pd.DataFrame(normal_list)\n",
    "\n",
    "    intrusion_df['class'] = 1\n",
    "    normal_df['class'] = 0\n",
    "\n",
    "    combined_df = pd.DataFrame()\n",
    "\n",
    "    combined_df = combined_df.append(intrusion_df)\n",
    "    combined_df = combined_df.append(normal_df)\n",
    "\n",
    "    print(combined_df.shape)\n",
    "    print()\n",
    "\n",
    "\n",
    "    combined_df = combined_df.drop_duplicates(subset = combined_df.columns[:-1], keep = 'last')\n",
    "    print(combined_df.shape)\n",
    "    print()\n",
    "\n",
    "    from sklearn.metrics.pairwise import cosine_similarity\n",
    "    import statistics\n",
    "\n",
    "    similarities_list = []\n",
    "    for i in range(0, 100):\n",
    "        list1 = list(combined_df[combined_df['class'] == 0].sample(n = 1).iloc[0, :].values)\n",
    "        list2 = list(combined_df[combined_df['class'] == 1].sample(n = 1).iloc[0, :].values)\n",
    "        try:\n",
    "            similarities_list.append(cosine_similarity([list1], [list2]))\n",
    "        except Exception as e:\n",
    "            print(e)\n",
    "            print(list1, list2)\n",
    "\n",
    "    print(statistics.median(similarities_list)[0][0])\n",
    "    print()\n",
    "    cosine_similar_ngram[ngram] = statistics.median(similarities_list)[0][0]"
   ]
  }
 ],
 "metadata": {
  "kernelspec": {
   "display_name": "Python 3 (ipykernel)",
   "language": "python",
   "name": "python3"
  },
  "language_info": {
   "codemirror_mode": {
    "name": "ipython",
    "version": 3
   },
   "file_extension": ".py",
   "mimetype": "text/x-python",
   "name": "python",
   "nbconvert_exporter": "python",
   "pygments_lexer": "ipython3",
   "version": "3.10.2"
  }
 },
 "nbformat": 4,
 "nbformat_minor": 4
}
