{
  "nbformat": 4,
  "nbformat_minor": 0,
  "metadata": {
    "colab": {
      "name": "Untitled3.ipynb",
      "provenance": [],
      "mount_file_id": "12pEa3dTB0aaY0n18OXr7cBgLB-ZgHOnc",
      "authorship_tag": "ABX9TyOzA72+bZvFMh+2HWXk6Wfh",
      "include_colab_link": true
    },
    "kernelspec": {
      "name": "python3",
      "display_name": "Python 3"
    },
    "language_info": {
      "name": "python"
    }
  },
  "cells": [
    {
      "cell_type": "markdown",
      "metadata": {
        "id": "view-in-github",
        "colab_type": "text"
      },
      "source": [
        "<a href=\"https://colab.research.google.com/github/lalitha11553237/lalitha_info5502_spring2022/blob/main/Untitled3.ipynb\" target=\"_parent\"><img src=\"https://colab.research.google.com/assets/colab-badge.svg\" alt=\"Open In Colab\"/></a>"
      ]
    },
    {
      "cell_type": "code",
      "execution_count": 7,
      "metadata": {
        "colab": {
          "base_uri": "https://localhost:8080/"
        },
        "id": "P2R4YrT_Pd2D",
        "outputId": "e4a2e65b-edce-405b-e95d-1284c5b1341e"
      },
      "outputs": [
        {
          "output_type": "stream",
          "name": "stdout",
          "text": [
            "--2022-01-22 19:37:55--  https://raw.githubusercontent.com/unt-iialab/info5731_spring2021/main/assignment/Assignment1_denton_housing.csv\n",
            "Resolving raw.githubusercontent.com (raw.githubusercontent.com)... 185.199.108.133, 185.199.109.133, 185.199.110.133, ...\n",
            "Connecting to raw.githubusercontent.com (raw.githubusercontent.com)|185.199.108.133|:443... connected.\n",
            "HTTP request sent, awaiting response... 200 OK\n",
            "Length: 1298 (1.3K) [text/plain]\n",
            "Saving to: ‘/content/drive/MyDrive/app/Assignment1_denton_housing.csv’\n",
            "\n",
            "\r          Assignmen   0%[                    ]       0  --.-KB/s               \rAssignment1_denton_ 100%[===================>]   1.27K  --.-KB/s    in 0s      \n",
            "\n",
            "2022-01-22 19:37:55 (33.3 MB/s) - ‘/content/drive/MyDrive/app/Assignment1_denton_housing.csv’ saved [1298/1298]\n",
            "\n"
          ]
        }
      ],
      "source": [
        "!wget \"https://raw.githubusercontent.com/unt-iialab/info5731_spring2021/main/assignment/Assignment1_denton_housing.csv\" -P \"/content/drive/MyDrive/app\""
      ]
    }
  ]
}